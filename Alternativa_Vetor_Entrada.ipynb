{
  "nbformat": 4,
  "nbformat_minor": 0,
  "metadata": {
    "colab": {
      "name": "Alternativa_Vetor_Entrada.ipynb",
      "provenance": [],
      "collapsed_sections": []
    },
    "kernelspec": {
      "name": "python3",
      "display_name": "Python 3"
    }
  },
  "cells": [
    {
      "cell_type": "markdown",
      "metadata": {
        "id": "rtnPB6V8BKxs"
      },
      "source": [
        "# INTRODUÇÃO\n",
        "<h1><b>Abordagem alternativa de transformação de dados para input no Autoencoder (ou: Embeddind dos Jsons)</b><h1>\n",
        "<h2>CNJ Inova - Desafio 2 - Time 4</h2>\n",
        "\n",
        "\n",
        "Este Notebook apresenta abordagem de vetorização dos jsons da base de dados do CNJ, no Hackathon CNJ Inova. Os outputs (matrizes) podem ser utilziados como uma forma alternativa de entradas para o autoencoder (algoritmo detector de anomalias proposto pelo time). Para isso, é necessário o ajuste dos nós de de entrada da rede para que fique de acordo com os parâmetros de saída da camada de embedding aqui apresentada.\n",
        "\n",
        "Esta abordagem baseia-se na técnica de word2vec, porém aplicada a documentos no formato json. Nesse caso, cada linha representativa de uma inserção de dados ``\n",
        "millisInsercao`` será interpretada como uma string de texto, antes passando por consideráveis transofmrações. A variabilidade de categorias e combinações possíveis de termos nos documentos faz inferir a possibilidade do tratamento das linhas de inserção como texto, já que as possibilidades de combinações textuais são também bastante grandes. Essas linhas podem, então, ser vetorizadas como assim seria feito no caso de texto.\n",
        "\n",
        "Dentre algumas vantagens dessa abordagem, cita-se a consolidação enquanto método de vetorização de textos em bom volume de problemas envolvendo processamento de linguagem natural, por isso mostrando-se uma técnica com boas bases teóricas e práticas.\n",
        "\n",
        "Na seção seguinte, explicamos as diferenças entre as técncias de vetorização, bem como os porquês de estarmos sugerindo esta como uma alternativa."
      ]
    },
    {
      "cell_type": "markdown",
      "metadata": {
        "id": "p6B9n3ZjIMCF"
      },
      "source": [
        "#EMBEDDING <i>VS</i> OUTRAS TÉCNICAS\n",
        "\n",
        "Algoritmos de Machine Learning efetuam cálculos utilizando vetores ou escalares. Quando se quer analisar texto, por exemplo, é impraticável dar como input para um modelo as palavras contidas no texto. Para contornar esse problema, utiliza-se técnicas de vetorização de palavras. Vetorizar uma palavra é nada mais que atribuir-lhe um número que lhe representará no conjunto de valavras (cahamado \"vocabulário\"). A seguir, exploraremos a mecânica básica das principais técnicas , conforme descritas <a href=\"https://www.tensorflow.org/tutorials/text/word_embeddings?hl=pt-br\">neste artigo</a>.\n",
        "\n",
        "<h3><b>One-hot encoding:</b></h3>\n",
        "Palavras podem ser interpretadas como variáveis categóricas, cuja aparição ou ausência em um texto pode ser marcada com `True` ou `False` (0 ou 1), respectivamente. Para o problema proposto, considere uma linha do arquivo Json transformada na seguinte `string`: \n",
        "\n",
        "```\n",
        "assunto principal False codigoNacional 7687 numero 05011736320088020010 dataAjuizamento 579783600000 classeProcessual 39 nivelSigilo 0 orgaoJulgador nomeOrgao Foro Colônia Leopoldina\n",
        "```\n",
        "Observe que removemos os caracteres especiais, tais como as chaves `{}`, colchetes `[]` e pontuações. Essa remoção é necessária pois esses caracteres não agregarão informação relevente ao vocabulário. Um passo adicional seria a remoção dos equivalentes às \"stopwords\", que, nessse caso, são equivalentes às keys de cada dicionário (ou labels de colunas). Chaves primárias (ou \"quase-primárias\") também perdem relevância, à medida que aumentam o tamanho do vocabulário em relação diretamente proporcional ao número de linhas, então, precisam ser removidas. Valores contendo textos com espaço, como o exemplo de \"Foro Colônia Leopoldina\" precisam ser unidos pois referem-se a uma categoria de foro, como se fossem uma palavra única que lhe identifica.\n",
        "\n",
        "Nesse caso, o vetor \"limpo\" de palvras, convertidas todas para letras minúsculas, passa a ser:\n",
        "\n",
        "```\n",
        "['false', '7687', '05011736320088020010', '579783600000', '39', '0', 'colônialeopoldina']\n",
        "```\n",
        "A abordagem One-hot Encoding endereça cada uma a uma posição, e atribui o valor `1` se a palavra aparece em determinada linha de texto e `0` se ela não aparece. Se as palavras do vetor acima se mantivessem nessa ordem para o endereçamento, uma entrada textual de outra linha do Json contendo novamente a palavra \"colônialeopoldina\" seria representado pelo seguinte vetor binário:\n",
        "```\n",
        "[0,0,0,0,0,0,1]\n",
        "```\n",
        "Considerando o tamanho possível de um vocabulário de palavras necessário para representar todas as possibilidades de termos contidos nos processos, fica clara a ineficência dessa eficácia. Imaginemos um total de 10000 palavras no vocabulário, significa que para cada palavra haveria um vetor com 9999 zeros e apenas 1 um.\n",
        "\n",
        "<h3><b>Palavras como inteiros:</b></h3>\n",
        "Uma outra técnica viável é a atribuição de um inteiro diferente para cada palavra, o que eliminaria o problema anterior. O problema com esta abordagem está na arbitrariedade (ou não-aleatoriedade) de escolha dos inteiros, que cria viés de peso inicial para os termos da rede.\n",
        "\n",
        "<h3><b>Embeddings de palavras:</b></h3>\n",
        "Embeddings de palavras, por outro lado, atribuem inteiros de forma aleatória para as palavras, e depois as transformam em floating points através de um processo de aprendizagem. \n",
        "\n",
        "![image.png](data:image/png;base64,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)\n",
        "\n",
        "Essa abordagem cria vetores densos, multidimensionais, onde a primeira dimensão representa as linha de texto, e a segunda contêm os vetores que representam cada palavra.\n",
        "\n",
        "<h3><b>Motivação:</b></h3>\n",
        "A sugestão dessa abordagem se deu pela verificação da possibilidade de atingimento de maiores taxas de aprendizagem ao informar essa entrada para a rede. No entando, questões estruturais de processamento e tempo inviabilizaram ciclos de treino mais completos e efetivos. Isso não significa que esta é uma abordagem melhor do que aquela escolhida para vetorizar os Jsons no back-end do nosso aplicativo."
      ]
    },
    {
      "cell_type": "markdown",
      "metadata": {
        "id": "VH6bVD6zThU0"
      },
      "source": [
        "#TRATAMENTO DOS DADOS"
      ]
    },
    {
      "cell_type": "code",
      "metadata": {
        "id": "QEgHiZmL6HIs"
      },
      "source": [
        "#Bibliotecas Necessarias:\n",
        "import pandas as pd\n",
        "import numpy as np\n",
        "import json\n",
        "import tensorflow as tf\n",
        "from tensorflow.keras.preprocessing.sequence import pad_sequences\n",
        "from tensorflow.keras import Model, Sequential\n",
        "from tensorflow.keras.layers.experimental.preprocessing import TextVectorization"
      ],
      "execution_count": 2,
      "outputs": []
    },
    {
      "cell_type": "markdown",
      "metadata": {
        "id": "i4ZiyJRSGLzv"
      },
      "source": [
        "Os arquivos da base de dados foram hospedados no Google Drive de um dos participantes, de forma que a célula abaixo poderá ser inativada ou excluída dependendo da localização dos arquivos do leitor deste Notebook."
      ]
    },
    {
      "cell_type": "code",
      "metadata": {
        "id": "vezD1Vxy5t0d",
        "outputId": "64cae1a9-fb11-4ac0-ce6d-bad938c7f396",
        "colab": {
          "base_uri": "https://localhost:8080/",
          "height": 35
        }
      },
      "source": [
        "from google.colab import drive\n",
        "drive.mount(\"/content/drive\")"
      ],
      "execution_count": 3,
      "outputs": [
        {
          "output_type": "stream",
          "text": [
            "Mounted at /content/drive\n"
          ],
          "name": "stdout"
        }
      ]
    },
    {
      "cell_type": "markdown",
      "metadata": {
        "id": "m5Q781DaGka7"
      },
      "source": [
        "A variabilidade entre esferas da justiça resulta em padrões de processos diferentes. Asssim, é fundamental segmentar a base de dados antes das implementações conforme a divisão inferida das pastas. A função abaixo recebe o path da pasta de nome 'base' (diertório-pai de todas as outras subpastas de dados disponibilizados) e uma lista contendo \"nomes\" das esferças de justiça, e cria listas de localizações de arquivos por cada esfera."
      ]
    },
    {
      "cell_type": "code",
      "metadata": {
        "id": "wolE2oV7heRd"
      },
      "source": [
        "def create_jus_list(base_path, jus_name):\n",
        "  import os\n",
        "\n",
        "  _base_paths = []\n",
        "  __base_paths = []\n",
        "  jus_list = []\n",
        "\n",
        "  for e in os.listdir(base_path):\n",
        "    if jus_name in e:\n",
        "      jus_path = base_path + '/' + e\n",
        "  for ee in os.listdir(jus_path):\n",
        "    __path = jus_path + '/' + ee\n",
        "    if os.path.isdir(__path):\n",
        "      for eee in os.listdir(__path):\n",
        "        ___path = jus_path + '/' + ee + '/' + eee\n",
        "        if os.path.isfile(___path) and ___path.endswith('.json'):\n",
        "          jus_list.append(___path)\n",
        "  return jus_list\n",
        "\n",
        "jus_list = ['eleitoral', 'estadual', 'federal', 'militar', 'trabalho', 'superiores']\n",
        "files_paths_dict = {}\n",
        "\n",
        "for jus in jus_list:\n",
        "  files_paths_dict[jus] = create_jus_list('/content/drive/My Drive/Hackathon_CNJ/base', jus)"
      ],
      "execution_count": 4,
      "outputs": []
    },
    {
      "cell_type": "markdown",
      "metadata": {
        "id": "sgUB2M20G6K1"
      },
      "source": [
        "Vamos começar com um arquivo contendo todos os processos do TJAL..."
      ]
    },
    {
      "cell_type": "code",
      "metadata": {
        "id": "82hCsXkB-Pu7",
        "outputId": "ae82bcf7-3c42-44ae-9faf-c40ac7c7144d",
        "colab": {
          "base_uri": "https://localhost:8080/",
          "height": 194
        }
      },
      "source": [
        "raw_data = pd.DataFrame()\n",
        "for f in files_paths_dict['estadual']:\n",
        "  if 'tjal' in f:\n",
        "    raw_data = raw_data.append(pd.read_json(f))\n",
        "\n",
        "raw_data.head()"
      ],
      "execution_count": 5,
      "outputs": [
        {
          "output_type": "execute_result",
          "data": {
            "text/html": [
              "<div>\n",
              "<style scoped>\n",
              "    .dataframe tbody tr th:only-of-type {\n",
              "        vertical-align: middle;\n",
              "    }\n",
              "\n",
              "    .dataframe tbody tr th {\n",
              "        vertical-align: top;\n",
              "    }\n",
              "\n",
              "    .dataframe thead th {\n",
              "        text-align: right;\n",
              "    }\n",
              "</style>\n",
              "<table border=\"1\" class=\"dataframe\">\n",
              "  <thead>\n",
              "    <tr style=\"text-align: right;\">\n",
              "      <th></th>\n",
              "      <th>millisInsercao</th>\n",
              "      <th>dadosBasicos</th>\n",
              "      <th>siglaTribunal</th>\n",
              "      <th>movimento</th>\n",
              "      <th>grau</th>\n",
              "    </tr>\n",
              "  </thead>\n",
              "  <tbody>\n",
              "    <tr>\n",
              "      <th>0</th>\n",
              "      <td>1509763311404</td>\n",
              "      <td>{'assunto': [{'principal': False, 'codigoNacio...</td>\n",
              "      <td>TJAL</td>\n",
              "      <td>[{'movimentoNacional': {'codigoNacional': 51},...</td>\n",
              "      <td>G1</td>\n",
              "    </tr>\n",
              "    <tr>\n",
              "      <th>1</th>\n",
              "      <td>1568779032538</td>\n",
              "      <td>{'assunto': [{'principal': False, 'codigoNacio...</td>\n",
              "      <td>TJAL</td>\n",
              "      <td>[{'movimentoNacional': {'codigoNacional': 51},...</td>\n",
              "      <td>G1</td>\n",
              "    </tr>\n",
              "    <tr>\n",
              "      <th>2</th>\n",
              "      <td>1542228169485</td>\n",
              "      <td>{'assunto': [{'principal': False, 'codigoNacio...</td>\n",
              "      <td>TJAL</td>\n",
              "      <td>[{'movimentoNacional': {'codigoNacional': 1061...</td>\n",
              "      <td>G1</td>\n",
              "    </tr>\n",
              "    <tr>\n",
              "      <th>3</th>\n",
              "      <td>1501687104516</td>\n",
              "      <td>{'assunto': [{'principal': False, 'codigoNacio...</td>\n",
              "      <td>TJAL</td>\n",
              "      <td>[{'movimentoNacional': {'codigoNacional': 246}...</td>\n",
              "      <td>G1</td>\n",
              "    </tr>\n",
              "    <tr>\n",
              "      <th>4</th>\n",
              "      <td>1528479905040</td>\n",
              "      <td>{'assunto': [{'principal': False, 'codigoNacio...</td>\n",
              "      <td>TJAL</td>\n",
              "      <td>[{'movimentoLocal': {'codigoMovimento': 60007,...</td>\n",
              "      <td>G1</td>\n",
              "    </tr>\n",
              "  </tbody>\n",
              "</table>\n",
              "</div>"
            ],
            "text/plain": [
              "   millisInsercao  ... grau\n",
              "0   1509763311404  ...   G1\n",
              "1   1568779032538  ...   G1\n",
              "2   1542228169485  ...   G1\n",
              "3   1501687104516  ...   G1\n",
              "4   1528479905040  ...   G1\n",
              "\n",
              "[5 rows x 5 columns]"
            ]
          },
          "metadata": {
            "tags": []
          },
          "execution_count": 5
        }
      ]
    },
    {
      "cell_type": "markdown",
      "metadata": {
        "id": "kKMo4Bj4Hmeq"
      },
      "source": [
        "As colunas `dadosBasicos` e `movimento` apresentam padrão diferente, com estruturas de listas e/ou dicionários aninhados. Vamos dar uma olhada mais de perto na primeira delas."
      ]
    },
    {
      "cell_type": "code",
      "metadata": {
        "id": "dIboA3jvC01H",
        "outputId": "fd8b8812-b8ac-4128-fb1d-94271fcb8c08",
        "colab": {
          "base_uri": "https://localhost:8080/",
          "height": 215
        }
      },
      "source": [
        "#Espiada no formato das linhas de 'dadosBasicos':\n",
        "for line in raw_data['dadosBasicos'][50:60]:\n",
        "  print(line)"
      ],
      "execution_count": 6,
      "outputs": [
        {
          "output_type": "stream",
          "text": [
            "{'assunto': [{'principal': False, 'codigoNacional': 7687}], 'numero': '05011736320088020010', 'dataAjuizamento': 579783600000, 'classeProcessual': 39, 'nivelSigilo': 0, 'orgaoJulgador': {'nomeOrgao': 'Foro Colônia Leopoldina - Vara do Único Ofício Colônia Leopoldina', 'codigoMunicipioIBGE': 2702108, 'codigoOrgao': '5789', 'instancia': 'ORIG'}, 'codigoLocalidade': '2702108'}\n",
            "{'assunto': [{'principal': False, 'codigoNacional': 9148}], 'numero': '00045148519888020001', 'dataAjuizamento': 584377200000, 'classeProcessual': 156, 'nivelSigilo': 0, 'orgaoJulgador': {'nomeOrgao': '11ª Vara Cível da Capital', 'codigoMunicipioIBGE': 2704302, 'codigoOrgao': '47', 'instancia': 'ORIG'}, 'codigoLocalidade': '2704302'}\n",
            "{'assunto': [{'principal': False, 'codigoNacional': 8960}], 'numero': '00049192419888020001', 'dataAjuizamento': 586450800000, 'classeProcessual': 7, 'nivelSigilo': 0, 'orgaoJulgador': {'nomeOrgao': '5ª Vara Cível da Capital', 'codigoMunicipioIBGE': 2704302, 'codigoOrgao': '5', 'instancia': 'ORIG'}, 'codigoLocalidade': '2704302'}\n",
            "{'assunto': [{'principal': False, 'codigoNacional': 9192}], 'numero': '06662708319998020058', 'dataAjuizamento': 588006000000, 'classeProcessual': 183, 'nivelSigilo': 0, 'orgaoJulgador': {'nomeOrgao': 'Foro de Arapiraca - 6ª Vara de Arapiraca / Cível Residual', 'codigoMunicipioIBGE': 2700300, 'codigoOrgao': '6362', 'instancia': 'ORIG'}, 'codigoLocalidade': '2700300'}\n",
            "{'assunto': [{'principal': False, 'codigoNacional': 7687}], 'numero': '05003805520098020054', 'dataAjuizamento': 588337200000, 'classeProcessual': 39, 'nivelSigilo': 0, 'orgaoJulgador': {'nomeOrgao': 'Foro de São Luiz do Quitunde - Vara do Único Ofício de São Luiz do Quitunde', 'codigoMunicipioIBGE': 0, 'codigoOrgao': '6250', 'instancia': 'ORIG'}, 'codigoLocalidade': '0'}\n",
            "{'assunto': [{'principal': False, 'codigoNacional': 7687}], 'numero': '02001936119888020053', 'dataAjuizamento': 597506400000, 'classeProcessual': 39, 'nivelSigilo': 0, 'orgaoJulgador': {'nomeOrgao': '2ª Vara Cível de São Miguel dos Campos', 'codigoMunicipioIBGE': 2708600, 'codigoOrgao': '101', 'instancia': 'ORIG'}, 'codigoLocalidade': '2708600'}\n",
            "{'assunto': [{'principal': False, 'codigoNacional': 10444}], 'numero': '00084164619888020001', 'dataAjuizamento': 598500000000, 'classeProcessual': 1707, 'nivelSigilo': 0, 'orgaoJulgador': {'nomeOrgao': 'Foro de Maceió - 2ª Vara Cível da Capital', 'codigoMunicipioIBGE': 2704302, 'codigoOrgao': '6696', 'instancia': 'ORIG'}, 'codigoLocalidade': '2704302'}\n",
            "{'assunto': [{'principal': False, 'codigoNacional': 7704}], 'numero': '05000908520088020018', 'dataAjuizamento': 599738400000, 'classeProcessual': 32, 'nivelSigilo': 0, 'orgaoJulgador': {'nomeOrgao': 'Foro de Major Isidoro - Vara do Único Ofício de Major Isidoro', 'codigoMunicipioIBGE': 2704401, 'codigoOrgao': '6535', 'instancia': 'ORIG'}, 'codigoLocalidade': '2704401'}\n",
            "{'assunto': [{'principal': False, 'codigoNacional': 10670}], 'numero': '00002854819898020001', 'dataAjuizamento': 600012000000, 'classeProcessual': 181, 'nivelSigilo': 0, 'orgaoJulgador': {'nomeOrgao': '5ª Vara Cível da Capital', 'codigoMunicipioIBGE': 2704302, 'codigoOrgao': '5', 'instancia': 'ORIG'}, 'codigoLocalidade': '2704302'}\n",
            "{'assunto': [{'principal': False, 'codigoNacional': 5808}], 'numero': '05000028320178020001', 'dataAjuizamento': 603543600000, 'classeProcessual': 98, 'nivelSigilo': 0, 'orgaoJulgador': {'nomeOrgao': '24ª Vara Cível da Capital / Família', 'codigoMunicipioIBGE': 2704302, 'codigoOrgao': '11', 'instancia': 'ORIG'}, 'codigoLocalidade': '2704302'}\n"
          ],
          "name": "stdout"
        }
      ]
    },
    {
      "cell_type": "markdown",
      "metadata": {
        "id": "DenErNEeIOH8"
      },
      "source": [
        "<h2><b>O que não importa:</b></h2>\n",
        "Podemos verificar que o campo `dadosBasicos` possui muitos subníveis e algumas peculiaridades:\n",
        "\n",
        "*   Há chaves primárias ou \"quase primárias\", significando alta variabilidade dessa informação para um vocabulário de palavras.\n",
        "*   Há muitos termos usados como labels, tais como `assunto`, `principal`, `codigoNacional` etc., e esses termos não têm relevância para aprendizagem baseada em texto: equivalem às <b>stopwords</b>.\n"
      ]
    },
    {
      "cell_type": "markdown",
      "metadata": {
        "id": "dV7BKHzS_Iy1"
      },
      "source": [
        "<h2><b>Funções para tratamento da coluna 'dadosBasicos':</b></h2>\n",
        "As funções abaixo criam listas de labels contidas em todas as dimensionalidades dos dados na coluna `dadosBasicos` e fazem remoção de chaves \"pseudo-primárias\". As listas de labels serão usadas em funções futuras (elas comporão a lista de \"stopwords\" a serem removidas dos dados)."
      ]
    },
    {
      "cell_type": "code",
      "metadata": {
        "id": "2IGpNbHjLMXM"
      },
      "source": [
        "def pop_pseudo_primary_db(col):\n",
        "  \"\"\"\n",
        "  Remove chaves 'pseudo-primarias' da coluna 'dadosBasicos'\n",
        "  \"\"\"\n",
        "  col.pop('numero')\n",
        "  col.pop('dataAjuizamento')\n",
        "\n",
        "def join_words_db(col):\n",
        "  \"\"\"\n",
        "  Faz a junção de palavras em campos com formato de texto contendo espaços para\n",
        "  a coluna \"dadosBasicos\"\n",
        "  \"\"\"\n",
        "  col['orgaoJulgador']['nomeOrgao'] = \\\n",
        "  col['orgaoJulgador']['nomeOrgao'].replace(\" \", \"\")\n",
        "\n",
        "def unique_keys_db(col):\n",
        "  \"\"\"\n",
        "  Itera pelo primeiro nível dimensional de dicionários da coluna \"dadosBasicos\",\n",
        "  extraindo deles as keys() e adicionando a um dicionário que relaciona o tipo\n",
        "  de dado de cada key.\n",
        "  \"\"\"\n",
        "  keys_dict = {}\n",
        "  basic_types = [int, float, str]\n",
        "  for i in col:\n",
        "    for elem in i:\n",
        "      if elem not in keys_dict:\n",
        "        keys_dict[elem] = type(i[elem])\n",
        "      elif (type(keys_dict[elem]) in basic_types)  &  (type(i[elem]) not in basic_types):\n",
        "        keys_dict.pop(elem)\n",
        "        keys_dict[elem] = type(i[elem])\n",
        "  return keys_dict\n",
        "\n",
        "def unique_subkeys_db(col, key_list):\n",
        "  \"\"\"\n",
        "  Cria listas de chaves únicas por subkeys\n",
        "  :param col: coluna de dados do dataframe (serie)\n",
        "  :type col: pandas series\n",
        "  :param key_: chave na qual pesquisar subchaves únicas\n",
        "  :type key_list: list\n",
        "  :return: lista de subchaves únicas, por chave, por linha da serie\n",
        "  \"\"\"\n",
        "  basic_types = [int, float, str]\n",
        "  d = {}\n",
        "  for line in col:\n",
        "    for key_ in key_list:\n",
        "      if type(line[key_]) == list:\n",
        "        for i in range(len(line[key_])):\n",
        "          for elem in line[key_][i]:\n",
        "            if not elem in d:\n",
        "              d[elem] = type(elem)\n",
        "            elif (type(d[elem]) in basic_types) & (type(elem) not in basic_types):\n",
        "              d.pop(elem)\n",
        "              d[elem] = type(elem)\n",
        "      else:\n",
        "        for elem in line[key_]:\n",
        "          if not elem in d:\n",
        "            d[elem] = type(elem)\n",
        "          elif (type(d[elem]) in basic_types) & (type(elem) not in basic_types):\n",
        "            d.pop(elem)\n",
        "            d[elem] = type(elem)\n",
        "  return d"
      ],
      "execution_count": 7,
      "outputs": []
    },
    {
      "cell_type": "markdown",
      "metadata": {
        "id": "iHxZTanYlwKR"
      },
      "source": [
        "<h2><b>Funções para tratamento da coluna 'movimento':</b></h2>\n",
        "As funções abaixo criam listas de labels contidas em todas as dimensionalidades dos dados na coluna `movimento` e fazem remoção de chaves \"pseudo-primárias\". As listas de labels serão usadas em funções futuras (elas comporão a lista de \"stopwords\" a serem removidas dos dados)."
      ]
    },
    {
      "cell_type": "code",
      "metadata": {
        "id": "syJdLhcNkYF0"
      },
      "source": [
        "def pop_pseudo_primary_mov(col):\n",
        "  \"\"\"\n",
        "  Remove chaves 'pseudo-primarias' da coluna 'movimento'\n",
        "  \"\"\"\n",
        "  if not col is None:\n",
        "    for elem in col:\n",
        "      if elem is None:\n",
        "        continue\n",
        "      else:\n",
        "        elem.pop('dataHora')\n",
        "\n",
        "def unique_keys_mov(col):\n",
        "  \"\"\"\n",
        "  Itera pelo primeiro nível dimensional de dicionários da coluna \"movimento\",\n",
        "  extraindo deles as keys() e adicionando a um dicionário que relaciona o tipo\n",
        "  de dado de cada key.\n",
        "  \"\"\"\n",
        "  basic_types = [int, float, str]\n",
        "  d = {}\n",
        "  for i in col:\n",
        "    if i is None:\n",
        "      continue\n",
        "    else:\n",
        "      for elem in i:\n",
        "        for elem_ in elem:\n",
        "          if elem_ not in d:\n",
        "            d[elem_] = type(elem[elem_])\n",
        "          elif (type(d[elem_]) in basic_types) & (type(elem[elem_]) not in basic_types):\n",
        "            d.pop(elem_)\n",
        "            d[elem_] = type(elem[elem_])\n",
        "  return d\n",
        "\n",
        "def unique_subkeys_mov(col, key_list):\n",
        "  \"\"\"\n",
        "  Cria listas de chaves únicas por subkeys para a coluna 'movimento'\n",
        "  :param col: coluna de dados do dataframe (serie)\n",
        "  :type col: pandas series\n",
        "  :param key_: chave na qual pesquisar subchaves únicas\n",
        "  :type key_list: list\n",
        "  :return: lista de subchaves únicas, por chave, por linha da serie\n",
        "  \"\"\"\n",
        "  basic_types = [int, float, str]\n",
        "  d = {}\n",
        "  for i in col:\n",
        "    if i is None:\n",
        "      continue\n",
        "    else:\n",
        "      for elem in i:\n",
        "        for elem_ in elem:\n",
        "          if elem_ in key_list:\n",
        "            if type(elem[elem_]) == dict:\n",
        "              for elem__ in elem[elem_]:\n",
        "                if elem__ not in d:\n",
        "                  d[elem__] = type(elem__)\n",
        "                elif (type(d[elem__]) in basic_types) & (type(elem__) not in basic_types):\n",
        "                  d.pop(elem__)\n",
        "                  d[elem__] = type(elem__)\n",
        "  return d"
      ],
      "execution_count": 8,
      "outputs": []
    },
    {
      "cell_type": "markdown",
      "metadata": {
        "id": "shb70CieDqV_"
      },
      "source": [
        "A função abaixo faz a extração dos nomes e tipos das keys contendo sublabels, sejam elas de quaisquer níveis hierárquicos, valendo para ambas as colunas sendo tratadas nesta etapa."
      ]
    },
    {
      "cell_type": "code",
      "metadata": {
        "id": "mnOEheMK_Eo_"
      },
      "source": [
        "def keys_w_sublevel(distinct_keys):\n",
        "  sublevels_key_list = []\n",
        "  for elem in distinct_keys:\n",
        "    if distinct_keys[elem] not in [int, float, str]:\n",
        "      sublevels_key_list.append(elem)\n",
        "  return sublevels_key_list"
      ],
      "execution_count": 9,
      "outputs": []
    },
    {
      "cell_type": "markdown",
      "metadata": {
        "id": "3ZHp2VmZmD2h"
      },
      "source": [
        "Aplicação da função de remoção das \"chaves primárias\" na coluna 'dadosBasicos' e 'movimento'"
      ]
    },
    {
      "cell_type": "code",
      "metadata": {
        "id": "Ux7_YN9pgfUB",
        "outputId": "9e657c35-e777-448a-ac95-11492d7f4d74",
        "colab": {
          "base_uri": "https://localhost:8080/",
          "height": 479
        }
      },
      "source": [
        "raw_data['dadosBasicos'].apply(pop_pseudo_primary_db)\n",
        "raw_data['dadosBasicos'].apply(join_words_db)\n",
        "raw_data['movimento'].apply(pop_pseudo_primary_mov)\n",
        "print(raw_data['dadosBasicos'][0])\n",
        "print(raw_data['movimento'][0])"
      ],
      "execution_count": 10,
      "outputs": [
        {
          "output_type": "stream",
          "text": [
            "0    {'assunto': [{'principal': False, 'codigoNacio...\n",
            "0    {'assunto': [{'principal': False, 'codigoNacio...\n",
            "0    {'assunto': [{'principal': False, 'codigoNacio...\n",
            "0    {'assunto': [{'principal': False, 'assuntoLoca...\n",
            "0    {'assunto': [{'principal': True, 'assuntoLocal...\n",
            "0    {'assunto': [{'principal': True, 'assuntoLocal...\n",
            "0    {'assunto': [{'principal': True, 'assuntoLocal...\n",
            "0    {'assunto': [{'principal': True, 'assuntoLocal...\n",
            "0    {'assunto': [{'principal': True, 'codigoNacion...\n",
            "0    {'assunto': [{'principal': True, 'codigoNacion...\n",
            "0    {'assunto': [{'principal': True, 'codigoNacion...\n",
            "0    {'assunto': [{'principal': True, 'codigoNacion...\n",
            "Name: dadosBasicos, dtype: object\n",
            "0    [{'movimentoNacional': {'codigoNacional': 51}}...\n",
            "0    [{'movimentoNacional': {'codigoNacional': 581}...\n",
            "0    [{'movimentoLocal': {'codigoMovimento': 60007,...\n",
            "0    [{'movimentoLocal': {'codigoMovimento': 60048,...\n",
            "0                                                 None\n",
            "0    [{'movimentoLocal': {'codigoMovimento': 85, 'c...\n",
            "0    [{'movimentoLocal': {'codigoMovimento': 391, '...\n",
            "0    [{'movimentoLocal': {'codigoMovimento': 60048,...\n",
            "0    [{'tipoResponsavelMovimento': 0, 'movimentoNac...\n",
            "0    [{'movimentoLocal': {'codigoMovimento': 60007,...\n",
            "0    [{'movimentoLocal': {'codigoMovimento': 60182,...\n",
            "0    [{'movimentoLocal': {'codigoMovimento': 60150,...\n",
            "Name: movimento, dtype: object\n"
          ],
          "name": "stdout"
        }
      ]
    },
    {
      "cell_type": "markdown",
      "metadata": {
        "id": "5UaLfXOHmDLN"
      },
      "source": [
        "Verificação das dimensões e criação das listas-base para as \"stopwords\" de 'dadosBasicos' e 'movimento':"
      ]
    },
    {
      "cell_type": "code",
      "metadata": {
        "id": "Vph5du0avWS9",
        "outputId": "529a7fda-793d-485a-e82f-53056a1d9984",
        "colab": {
          "base_uri": "https://localhost:8080/",
          "height": 212
        }
      },
      "source": [
        "uniqueDbKeys_dict = unique_keys_db(raw_data['dadosBasicos'])\n",
        "uniqueDbKeys_list = list(uniqueDbKeys_dict.keys())\n",
        "print(\"Keys distintas em todas as linhas de 'dadosBasicos':\")\n",
        "print(uniqueDbKeys_list, '\\n')\n",
        "\n",
        "dbFatherKeys_list = keys_w_sublevel(uniqueDbKeys_dict)\n",
        "print(\"Keys distintas de 'dadosBasicos' que contêm subníveis (sub-dicionários ou sub-listas):\")\n",
        "print(dbFatherKeys_list, '\\n')\n",
        "\n",
        "uniqueDbSubkeys_dict = unique_subkeys_db(raw_data['dadosBasicos'], dbFatherKeys_list)\n",
        "uniqueDbSubkeys_list = list(uniqueDbSubkeys_dict.keys())\n",
        "print(\"Sub-keys distintas em todas as linhas de 'dadosBasicos':\")\n",
        "print(uniqueDbSubkeys_list, '\\n')\n",
        "\n",
        "dbChildKeys_list = keys_w_sublevel(uniqueDbSubkeys_dict)\n",
        "print(\"Subkeys distintas de 'dadosBasicos' que contêm subníveis (sub-dicionários ou sub-listas):\")\n",
        "print(dbChildKeys_list)"
      ],
      "execution_count": 12,
      "outputs": [
        {
          "output_type": "stream",
          "text": [
            "Keys distintas em todas as linhas de 'dadosBasicos':\n",
            "['assunto', 'classeProcessual', 'nivelSigilo', 'orgaoJulgador', 'codigoLocalidade', 'totalAssuntos', 'dscSistema', 'procEl'] \n",
            "\n",
            "Keys distintas de 'dadosBasicos' que contêm subníveis (sub-dicionários ou sub-listas):\n",
            "['assunto', 'orgaoJulgador'] \n",
            "\n",
            "Sub-keys distintas em todas as linhas de 'dadosBasicos':\n",
            "['principal', 'codigoNacional', 'nomeOrgao', 'codigoMunicipioIBGE', 'codigoOrgao', 'instancia', 'assuntoLocal', 'codigoAssunto', 'codigoPaiNacional', 'descricao'] \n",
            "\n",
            "Subkeys distintas de 'dadosBasicos' que contêm subníveis (sub-dicionários ou sub-listas):\n",
            "[]\n"
          ],
          "name": "stdout"
        }
      ]
    },
    {
      "cell_type": "markdown",
      "metadata": {
        "id": "cP8vCg27oRbC"
      },
      "source": [
        "Funções para tratamento de dados da coluna movimento"
      ]
    },
    {
      "cell_type": "markdown",
      "metadata": {
        "id": "_-_aDB6woWxe"
      },
      "source": [
        "Remoção das \"chaves primárias\" da coluna movimento"
      ]
    },
    {
      "cell_type": "markdown",
      "metadata": {
        "id": "chiK3sgaokvd"
      },
      "source": [
        "Verificação das dimensões e criação das listas-base para as \"stopwords\" da coluna movimento"
      ]
    },
    {
      "cell_type": "code",
      "metadata": {
        "id": "N-lYrHexmgDz",
        "outputId": "a80e76db-1b59-46a6-fcab-d9f859ec1c47",
        "colab": {
          "base_uri": "https://localhost:8080/",
          "height": 212
        }
      },
      "source": [
        "uniqueMovKeys_dict = unique_keys_mov(raw_data['movimento'])\n",
        "uniqueMovKeys_list = list(uniqueMovKeys_dict.keys())\n",
        "print('Keys distintas em todas as linhas:')\n",
        "print(uniqueMovKeys_list, '\\n')\n",
        "\n",
        "movFatherKeys_list = keys_w_sublevel(uniqueMovKeys_dict)\n",
        "print('Keys distintas que contém subníveis (sub-dicionários ou sub-listas):')\n",
        "print(movFatherKeys_list, '\\n')\n",
        "\n",
        "uniqueMovSubkeys_dict = unique_subkeys_mov(raw_data['movimento'], movFatherKeys_list)\n",
        "uniqueMovSubkeys_list = list(uniqueMovSubkeys_dict.keys())\n",
        "print('Sub-keys distintas em todas as linhas:')\n",
        "print(uniqueMovSubkeys_list, '\\n')\n",
        "\n",
        "movChildKeys_list = keys_w_sublevel(uniqueMovSubkeys_dict)\n",
        "print('Subkeys distintas que contém subníveis (sub-dicionários ou sub-listas):')\n",
        "print(movChildKeys_list)"
      ],
      "execution_count": 13,
      "outputs": [
        {
          "output_type": "stream",
          "text": [
            "Keys distintas em todas as linhas:\n",
            "['movimentoNacional', 'movimentoLocal', 'orgaoJulgador', 'tipoResponsavelMovimento', 'tipoDecisao'] \n",
            "\n",
            "Keys distintas que contém subníveis (sub-dicionários ou sub-listas):\n",
            "['movimentoNacional', 'movimentoLocal', 'orgaoJulgador'] \n",
            "\n",
            "Sub-keys distintas em todas as linhas:\n",
            "['codigoNacional', 'codigoMovimento', 'codigoPaiNacional', 'nomeOrgao', 'codigoMunicipioIBGE', 'codigoOrgao', 'instancia'] \n",
            "\n",
            "Subkeys distintas que contém subníveis (sub-dicionários ou sub-listas):\n",
            "[]\n"
          ],
          "name": "stdout"
        }
      ]
    },
    {
      "cell_type": "markdown",
      "metadata": {
        "id": "1gALhcZ6ooqX"
      },
      "source": [
        "Transformando as colunas dadosBasicos e movimento em string e combinando-as"
      ]
    },
    {
      "cell_type": "code",
      "metadata": {
        "id": "YR4H9zTcouPk",
        "outputId": "1a9a5efe-4489-4b9a-bcd3-eba203973a4c",
        "colab": {
          "base_uri": "https://localhost:8080/",
          "height": 124
        }
      },
      "source": [
        "def transform_unify(col_A, col_B):\n",
        "  json_to_str = lambda x: json.dumps(x)\n",
        "  raw_data_left = col_A.apply(json_to_str)\n",
        "  raw_data_right = col_B.apply(json_to_str)\n",
        "  ds = raw_data_left + raw_data_right\n",
        "  return ds  \n",
        "  \n",
        "ds = transform_unify(raw_data['dadosBasicos'], raw_data['movimento'])\n",
        "ds.head()"
      ],
      "execution_count": 14,
      "outputs": [
        {
          "output_type": "execute_result",
          "data": {
            "text/plain": [
              "0    {\"assunto\": [{\"principal\": false, \"codigoNacio...\n",
              "1    {\"assunto\": [{\"principal\": false, \"codigoNacio...\n",
              "2    {\"assunto\": [{\"principal\": false, \"codigoNacio...\n",
              "3    {\"assunto\": [{\"principal\": false, \"codigoNacio...\n",
              "4    {\"assunto\": [{\"principal\": false, \"codigoNacio...\n",
              "dtype: object"
            ]
          },
          "metadata": {
            "tags": []
          },
          "execution_count": 14
        }
      ]
    },
    {
      "cell_type": "markdown",
      "metadata": {
        "id": "lrS98rfCo99c"
      },
      "source": [
        "Remoção de stopwords e caracteres especiais da string combinada"
      ]
    },
    {
      "cell_type": "code",
      "metadata": {
        "id": "ZE-98m7etx8a"
      },
      "source": [
        "def get_rid(serie, stopwords):\n",
        "  chars = ',{}:.\"[]'\n",
        "  for c in chars:\n",
        "    serie = serie.apply(lambda x: x.replace(c,''))\n",
        "  for elem in stopwords:\n",
        "    serie = serie.apply(lambda x: x.replace(elem,''))\n",
        "  return serie\n",
        "\n",
        "def tokenize(row):\n",
        "  lowercase = row.lower()\n",
        "  stripped = lowercase.strip()\n",
        "  splitted = stripped.split()\n",
        "  return splitted"
      ],
      "execution_count": 15,
      "outputs": []
    },
    {
      "cell_type": "markdown",
      "metadata": {
        "id": "dbCQepWBXoUe"
      },
      "source": [
        "\"Limpeza\" do dataset:"
      ]
    },
    {
      "cell_type": "code",
      "metadata": {
        "id": "w03G9LaUxPoM"
      },
      "source": [
        "ds_cleaned = get_rid(ds, sorted(np.unique(\n",
        "    uniqueDbKeys_list+uniqueDbSubkeys_list+\n",
        "    uniqueMovKeys_list+\n",
        "    uniqueMovSubkeys_list)))\n",
        "\n",
        "ds_tokenized = list(ds_cleaned.apply(tokenize))\n",
        "ds_tensor = tf.data.Dataset.from_generator(lambda: ds_tokenized, output_types=tf.string)"
      ],
      "execution_count": 16,
      "outputs": []
    },
    {
      "cell_type": "markdown",
      "metadata": {
        "id": "j2UfSTbzXsvo"
      },
      "source": [
        "Criação do Vocabulário:"
      ]
    },
    {
      "cell_type": "code",
      "metadata": {
        "id": "crR54dB9m4nq"
      },
      "source": [
        "vocab_size = 10000\n",
        "\n",
        "vectorize_layer = TextVectorization(\n",
        "    max_tokens=vocab_size,\n",
        "    output_mode='int')\n",
        "\n",
        "ds_cleaned_tensor = tf.data.Dataset.from_tensor_slices(ds_cleaned)\n",
        "vectorize_layer.adapt(ds_cleaned_tensor)"
      ],
      "execution_count": 19,
      "outputs": []
    },
    {
      "cell_type": "markdown",
      "metadata": {
        "id": "y9U9tP29X3SE"
      },
      "source": [
        "Vetorização (inteiros):"
      ]
    },
    {
      "cell_type": "code",
      "metadata": {
        "id": "_MkUFY2H7Z_p"
      },
      "source": [
        "ds_iterate = iter(ds_tensor)"
      ],
      "execution_count": 20,
      "outputs": []
    },
    {
      "cell_type": "code",
      "metadata": {
        "id": "jQFUO_qIxuuY"
      },
      "source": [
        "model_int = tf.keras.models.Sequential()\n",
        "model_int.add(tf.keras.Input(shape=(1,), dtype=tf.string))\n",
        "model_int.add(vectorize_layer)\n",
        "output_int = model_int.predict(ds_iterate.next())\n",
        "output_int.resize(output_int.shape[0])\n",
        "std_output = pad_sequences([output_int],\n",
        "                           padding='post',\n",
        "                           truncating='pre',\n",
        "                           maxlen=300)"
      ],
      "execution_count": 22,
      "outputs": []
    },
    {
      "cell_type": "markdown",
      "metadata": {
        "id": "ZQNce2qJYBIH"
      },
      "source": [
        "Vetorização (floats):"
      ]
    },
    {
      "cell_type": "code",
      "metadata": {
        "id": "rw1eJN7yxmy9",
        "outputId": "eb113bcb-9732-4918-8a87-bf729451c413",
        "colab": {
          "base_uri": "https://localhost:8080/",
          "height": 35
        }
      },
      "source": [
        "model_float = tf.keras.models.Sequential()\n",
        "model_float.add(tf.keras.layers.Embedding(vocab_size, 5))\n",
        "model_float.compile('rmsprop', 'mse')\n",
        "output_float = model_float.predict(std_output)\n",
        "output_float.shape"
      ],
      "execution_count": 23,
      "outputs": [
        {
          "output_type": "execute_result",
          "data": {
            "text/plain": [
              "(1, 300, 5)"
            ]
          },
          "metadata": {
            "tags": []
          },
          "execution_count": 23
        }
      ]
    },
    {
      "cell_type": "code",
      "metadata": {
        "id": "PEQSfmj_YEF_",
        "outputId": "d32eb239-0cda-4925-b571-2652e3277423",
        "colab": {
          "base_uri": "https://localhost:8080/",
          "height": 248
        }
      },
      "source": [
        "output_float"
      ],
      "execution_count": 24,
      "outputs": [
        {
          "output_type": "execute_result",
          "data": {
            "text/plain": [
              "array([[[ 0.03969213,  0.04195924,  0.04066813,  0.00392567,\n",
              "         -0.03958543],\n",
              "        [ 0.04361856, -0.01788799, -0.0392949 ,  0.0110746 ,\n",
              "          0.00362981],\n",
              "        [ 0.00966803,  0.04724664, -0.04864728, -0.00946514,\n",
              "         -0.0223151 ],\n",
              "        ...,\n",
              "        [-0.02748283, -0.04738856, -0.01278005, -0.04724396,\n",
              "          0.01024581],\n",
              "        [-0.02748283, -0.04738856, -0.01278005, -0.04724396,\n",
              "          0.01024581],\n",
              "        [-0.02748283, -0.04738856, -0.01278005, -0.04724396,\n",
              "          0.01024581]]], dtype=float32)"
            ]
          },
          "metadata": {
            "tags": []
          },
          "execution_count": 24
        }
      ]
    }
  ]
}